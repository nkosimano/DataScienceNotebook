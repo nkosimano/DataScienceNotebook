{
 "cells": [
  {
   "cell_type": "markdown",
   "id": "46b90bf3-f523-4e50-9d13-247b90da5c7e",
   "metadata": {
    "tags": []
   },
   "source": [
    "#Data Science Tools and Ecosystem"
   ]
  },
  {
   "cell_type": "markdown",
   "id": "58424383-cc18-4d60-a7ed-555f2fc0da6f",
   "metadata": {
    "tags": []
   },
   "source": [
    "In this notebook, Data Science Tools and Ecosystem are summarized."
   ]
  },
  {
   "cell_type": "markdown",
   "id": "1694e39f-1242-4824-98cf-0bb66423723e",
   "metadata": {},
   "source": [
    "Some of the popular languages that Data Scientists use are"
   ]
  },
  {
   "cell_type": "markdown",
   "id": "5aded789-be19-466a-a062-bc3ac0aa44c2",
   "metadata": {},
   "source": [
    "Some of the commonly used libraries used by Data Scientists include: Python, R , SQL"
   ]
  },
  {
   "cell_type": "markdown",
   "id": "5d302181-4a7d-4cda-8be4-3bc9078017aa",
   "metadata": {},
   "source": [
    "| Data Science Tools |\n",
    "| --- |\n",
    "| Jupyter Notebook |\n",
    "| Anaconda |\n",
    "| TensorFlow |"
   ]
  },
  {
   "cell_type": "markdown",
   "id": "5f41a6c3-a3e8-44a3-a6a1-6ef250236d55",
   "metadata": {},
   "source": [
    "Below are a few examples of evaluating arithmetic expressions in Python"
   ]
  },
  {
   "cell_type": "code",
   "execution_count": 2,
   "id": "fe9dfca6-4a09-4c67-8ca6-66900139ff28",
   "metadata": {
    "tags": []
   },
   "outputs": [
    {
     "data": {
      "text/plain": [
       "17"
      ]
     },
     "execution_count": 2,
     "metadata": {},
     "output_type": "execute_result"
    }
   ],
   "source": [
    "(3*4)+5 # This a simple arithmetic expression to mutiply then add integers"
   ]
  },
  {
   "cell_type": "code",
   "execution_count": 5,
   "id": "22b08a0d-6650-4e21-8650-edbb478ee599",
   "metadata": {
    "tags": []
   },
   "outputs": [
    {
     "data": {
      "text/plain": [
       "3.3333333333333335"
      ]
     },
     "execution_count": 5,
     "metadata": {},
     "output_type": "execute_result"
    }
   ],
   "source": [
    "200 / 60 #This will convert 200 minutes to hours by diving by 60"
   ]
  },
  {
   "cell_type": "markdown",
   "id": "bd46608a-29fb-4dc4-9cf7-c172ccbfca37",
   "metadata": {},
   "source": [
    "**Objectives:**\n",
    "- Introduction to Data Science Tools and Ecosystem\n",
    "- Listing commonly used languages and libraries in Data Science\n",
    "- Introduction to arithmetic operations in Python"
   ]
  },
  {
   "cell_type": "markdown",
   "id": "699c4c17-65f8-404f-9366-d57e23c7c120",
   "metadata": {},
   "source": [
    "## Author\n",
    "Your Name"
   ]
  },
  {
   "cell_type": "code",
   "execution_count": null,
   "id": "577bcda5-780a-4e46-8644-244847149c43",
   "metadata": {},
   "outputs": [],
   "source": []
  }
 ],
 "metadata": {
  "kernelspec": {
   "display_name": "Python",
   "language": "python",
   "name": "conda-env-python-py"
  },
  "language_info": {
   "codemirror_mode": {
    "name": "ipython",
    "version": 3
   },
   "file_extension": ".py",
   "mimetype": "text/x-python",
   "name": "python",
   "nbconvert_exporter": "python",
   "pygments_lexer": "ipython3",
   "version": "3.7.12"
  }
 },
 "nbformat": 4,
 "nbformat_minor": 5
}
